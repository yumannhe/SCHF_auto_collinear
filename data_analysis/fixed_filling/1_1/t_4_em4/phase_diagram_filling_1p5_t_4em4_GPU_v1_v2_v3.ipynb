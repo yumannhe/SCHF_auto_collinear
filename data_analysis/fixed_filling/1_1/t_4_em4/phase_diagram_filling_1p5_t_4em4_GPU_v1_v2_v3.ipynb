{
 "cells": [
  {
   "cell_type": "code",
   "execution_count": 1,
   "id": "b753fe92",
   "metadata": {},
   "outputs": [],
   "source": [
    "import sys\n",
    "import os\n",
    "\n",
    "# # Simple approach: add the parent directory to Python path\n",
    "# project_root = os.path.dirname(os.getcwd())\n",
    "# sys.path.insert(0, project_root)\n",
    "# print(f\"Added {project_root} to Python path\")\n",
    "# print(f\"Current working directory: {os.getcwd()}\")\n",
    "\n",
    "import pickle\n",
    "import matplotlib.pyplot as plt\n",
    "import numpy as np\n",
    "import numpy.linalg as la\n",
    "from functions_parameters.universal_parameters import a, b\n",
    "from itertools import product"
   ]
  },
  {
   "cell_type": "code",
   "execution_count": 2,
   "id": "5a5d0ffa",
   "metadata": {},
   "outputs": [],
   "source": [
    "final_result = np.load('u_v1_v2_v3_filling_1p5_t_4_em4_random_basis_mesh_60.npz')\n",
    "\n",
    "\n",
    "final_ground_state_e_diff_density = final_result['gse']\n",
    "final_density = final_result['d']\n",
    "final_bond = final_result['bond']\n",
    "final_e_difference = final_result['e_diff']\n",
    "final_c_difference = final_result['c_diff']\n",
    "final_e_fermi = final_result['e_fermi']\n",
    "final_iteration = final_result['iters']\n",
    "any_bi_fail = final_result['any_bi_fail']\n",
    "\n",
    "u_arr = final_result['u']\n",
    "v1_arr = u_arr\n",
    "u_mesh, v1_mesh = np.meshgrid(u_arr, v1_arr, indexing = 'ij')"
   ]
  },
  {
   "cell_type": "code",
   "execution_count": 3,
   "id": "914836a9",
   "metadata": {},
   "outputs": [
    {
     "data": {
      "text/plain": [
       "np.float64(9.999685940398351e-08)"
      ]
     },
     "execution_count": 3,
     "metadata": {},
     "output_type": "execute_result"
    }
   ],
   "source": [
    "np.max(final_c_difference)"
   ]
  },
  {
   "cell_type": "code",
   "execution_count": 4,
   "id": "4151d058",
   "metadata": {},
   "outputs": [
    {
     "data": {
      "text/plain": [
       "np.float64(9.922820343177818e-09)"
      ]
     },
     "execution_count": 4,
     "metadata": {},
     "output_type": "execute_result"
    }
   ],
   "source": [
    "np.max(final_e_difference)"
   ]
  },
  {
   "cell_type": "markdown",
   "id": "85421e24",
   "metadata": {},
   "source": [
    "### Phase Analysis"
   ]
  },
  {
   "cell_type": "code",
   "execution_count": 5,
   "id": "bf0d91e5",
   "metadata": {},
   "outputs": [],
   "source": [
    "from functions_parameters.tools import rot_symm_m_check_d\n",
    "from functions_parameters.universal_parameters import pauli_matrices\n",
    "\n",
    "c_6 = np.array([[0,0,1],\n",
    "               [1,0,0],\n",
    "               [0,1,0]])\n",
    "c_3 = c_6@c_6\n",
    "c_2 = c_6 @ c_3"
   ]
  },
  {
   "cell_type": "code",
   "execution_count": 6,
   "id": "ed04ccff",
   "metadata": {},
   "outputs": [],
   "source": [
    "nematic_phase = ['R symmetric', 'C3 charge nematic', 'C2 charge nematic', 'no R']\n",
    "Magnetism_phase = [' +', ' FM', ' Ferri', ' AFM']\n",
    "\n",
    "phase_list_final = list(i+j for i,j in product(nematic_phase, Magnetism_phase))"
   ]
  },
  {
   "cell_type": "code",
   "execution_count": 7,
   "id": "0db98ed7",
   "metadata": {},
   "outputs": [],
   "source": [
    "sorted_ground_state_e_index = np.argsort(final_ground_state_e_diff_density, axis=2)\n",
    "sorted_ground_state_e= np.take_along_axis(final_ground_state_e_diff_density, sorted_ground_state_e_index, axis=2)\n",
    "sorted_density = np.take_along_axis(final_density, sorted_ground_state_e_index[:,:,:,np.newaxis,np.newaxis], axis=2)\n",
    "sorted_e_difference = np.take_along_axis(final_e_difference, sorted_ground_state_e_index, axis=2)\n",
    "sorted_c_difference = np.take_along_axis(final_c_difference, sorted_ground_state_e_index, axis=2)"
   ]
  },
  {
   "cell_type": "code",
   "execution_count": 8,
   "id": "6780e395",
   "metadata": {},
   "outputs": [],
   "source": [
    "threshold = 1E-5\n",
    "\n",
    "phase_diagram_based_on_d = np.zeros(u_mesh.shape)\n",
    "gs_m = np.zeros(u_mesh.shape)\n",
    "gs_n = np.zeros(u_mesh.shape)\n",
    "for i in range(u_mesh.shape[0]):\n",
    "    for j in range(u_mesh.shape[1]):\n",
    "        d_o = sorted_density[i,j,0]\n",
    "        rs_recording = np.zeros((4))\n",
    "        m_recording = np.zeros((4))\n",
    "        c6_diff, c3_diff, c2_diff, magnetism_arr = rot_symm_m_check_d(d_o, c_6, c_3, c_2)\n",
    "        gs_n[i,j] = c6_diff\n",
    "        if c6_diff<threshold:\n",
    "            rs_recording[0] = 1\n",
    "        elif c6_diff>threshold and c3_diff<threshold:\n",
    "            rs_recording[1] = 1\n",
    "        elif c2_diff<threshold and c6_diff>threshold:\n",
    "            rs_recording[2] = 1\n",
    "        # else:\n",
    "        #     rs_recording[3] = 1\n",
    "        gs_m[i,j] = np.max(np.abs(magnetism_arr))\n",
    "        if np.max(np.abs(magnetism_arr)) > threshold:\n",
    "            if np.all(np.sign(np.real(magnetism_arr)) == 1) or np.all(np.sign(np.real(magnetism_arr)) == -1):\n",
    "                m_recording[1] = 1\n",
    "            else:\n",
    "                net_m = np.sum(np.real(magnetism_arr))\n",
    "                if np.abs(net_m) <= threshold:\n",
    "                    m_recording[3] = 1\n",
    "                else:\n",
    "                    m_recording[2] = 1\n",
    "        else:\n",
    "            m_recording[0] = 1\n",
    "        phase_arr = np.kron(rs_recording,m_recording)\n",
    "        phase = np.where(phase_arr>0.5)[0][0]\n",
    "        # it this right???????\n",
    "        phase_diagram_based_on_d[i,j]=phase"
   ]
  },
  {
   "cell_type": "code",
   "execution_count": 9,
   "id": "1617e86f",
   "metadata": {},
   "outputs": [
    {
     "data": {
      "text/plain": [
       "Text(0.5, 1.0, 'filling = 1')"
      ]
     },
     "execution_count": 9,
     "metadata": {},
     "output_type": "execute_result"
    },
    {
     "data": {
      "image/png": "[encoded data removed]",
      "text/plain": [
       "<Figure size 640x480 with 2 Axes>"
      ]
     },
     "metadata": {},
     "output_type": "display_data"
    }
   ],
   "source": [
    "colorbar_ticks_combined = np.arange(len(phase_list_final))\n",
    "cmap = plt.get_cmap(\"Paired\", len(phase_list_final))\n",
    "# plt.pcolormesh(e_fermi_mesh, u_mesh, phase_diagram_combined_op.T, cmap=\"Paired\")\n",
    "plt.scatter(u_mesh, v1_mesh, c=phase_diagram_based_on_d, cmap=cmap,vmin=0, vmax=len(phase_list_final))\n",
    "# plt.xlabel(r'$E_{f}$', size = '14')\n",
    "plt.xlabel('v', size = '14')\n",
    "plt.ylabel('U', size = '14')\n",
    "# plt.xlim(3.8,6)\n",
    "colorbar_ticks = np.arange(len(phase_list_final))\n",
    "cbar = plt.colorbar()\n",
    "cbar.set_ticks(colorbar_ticks)\n",
    "cbar.set_ticklabels(phase_list_final)\n",
    "plt.title('filling = 1')"
   ]
  },
  {
   "cell_type": "code",
   "execution_count": 10,
   "id": "175895cc",
   "metadata": {},
   "outputs": [],
   "source": [
    "unique_phase_index = np.unique(phase_diagram_based_on_d)\n",
    "unique_phase_name = [phase_list_final[i] for i in np.int_(unique_phase_index)]\n",
    "filtered_phase_diagram = np.zeros(phase_diagram_based_on_d.shape)\n",
    "for i in range(u_mesh.shape[0]):\n",
    "    for j in range(u_mesh.shape[1]):\n",
    "        filtered_phase_diagram[i,j] = np.where(unique_phase_index==phase_diagram_based_on_d[i,j])[0][0]"
   ]
  },
  {
   "cell_type": "code",
   "execution_count": 11,
   "id": "e63812f8",
   "metadata": {},
   "outputs": [
    {
     "data": {
      "text/plain": [
       "Text(0.5, 1.0, 'filling = 1')"
      ]
     },
     "execution_count": 11,
     "metadata": {},
     "output_type": "execute_result"
    },
    {
     "data": {
      "image/png": "[encoded data removed]",
      "text/plain": [
       "<Figure size 640x480 with 2 Axes>"
      ]
     },
     "metadata": {},
     "output_type": "display_data"
    }
   ],
   "source": [
    "cmap = plt.get_cmap(\"Paired\", len(unique_phase_index))\n",
    "plt.scatter(u_mesh, v1_mesh, c=filtered_phase_diagram, cmap=cmap)\n",
    "plt.xlabel('U', size = '14')\n",
    "plt.ylabel('V1', size = '14')\n",
    "colorbar_ticks = np.arange(len(unique_phase_index))\n",
    "cbar = plt.colorbar()\n",
    "cbar.set_ticks(np.arange(len(unique_phase_index)))\n",
    "cbar.set_ticklabels(unique_phase_name)\n",
    "plt.title('filling = 1')"
   ]
  },
  {
   "cell_type": "code",
   "execution_count": 12,
   "id": "67d92628",
   "metadata": {},
   "outputs": [
    {
     "data": {
      "text/plain": [
       "Text(0.5, 1.0, 'filling = 3/4')"
      ]
     },
     "execution_count": 12,
     "metadata": {},
     "output_type": "execute_result"
    },
    {
     "data": {
      "image/png": "[encoded data removed]",
      "text/plain": [
       "<Figure size 640x480 with 2 Axes>"
      ]
     },
     "metadata": {},
     "output_type": "display_data"
    }
   ],
   "source": [
    "cmap = plt.get_cmap(\"Paired\", len(unique_phase_index))\n",
    "plt.scatter(v1_mesh, u_mesh, c=filtered_phase_diagram, cmap=cmap)\n",
    "plt.xlabel('v1', size = '14')\n",
    "plt.ylabel('u', size = '14')\n",
    "colorbar_ticks = np.arange(len(unique_phase_index))\n",
    "cbar = plt.colorbar()\n",
    "cbar.set_ticks(np.arange(len(unique_phase_index)))\n",
    "cbar.set_ticklabels(unique_phase_name)\n",
    "plt.title('filling = 3/4')"
   ]
  },
  {
   "cell_type": "code",
   "execution_count": 13,
   "id": "f44c34ca",
   "metadata": {},
   "outputs": [
    {
     "data": {
      "text/plain": [
       "array([-0.29248843, -0.29248843, -0.29248842, -0.29248842, -0.29248827,\n",
       "       -0.29248827, -0.29248827, -0.29248827, -0.29248827, -0.29248827])"
      ]
     },
     "execution_count": 13,
     "metadata": {},
     "output_type": "execute_result"
    }
   ],
   "source": [
    "sorted_ground_state_e[-3,-1]"
   ]
  },
  {
   "cell_type": "code",
   "execution_count": 14,
   "id": "2fb72a05",
   "metadata": {},
   "outputs": [
    {
     "data": {
      "text/plain": [
       "array([0.25000006-6.23876200e-26j, 0.25      +9.11137521e-20j,\n",
       "       0.24999994+1.84161329e-19j])"
      ]
     },
     "execution_count": 14,
     "metadata": {},
     "output_type": "execute_result"
    }
   ],
   "source": [
    "sorted_density[-3,-1,0,0]"
   ]
  },
  {
   "cell_type": "code",
   "execution_count": 15,
   "id": "b201b429",
   "metadata": {},
   "outputs": [
    {
     "data": {
      "text/plain": [
       "array([-0.29248843, -0.29248843, -0.29248843, -0.29248843, -0.29248843,\n",
       "       -0.29248843, -0.29248843, -0.29248843, -0.29248843, -0.29248842])"
      ]
     },
     "execution_count": 15,
     "metadata": {},
     "output_type": "execute_result"
    }
   ],
   "source": [
    "sorted_ground_state_e[-9,-1]"
   ]
  },
  {
   "cell_type": "code",
   "execution_count": 16,
   "id": "62540025",
   "metadata": {},
   "outputs": [
    {
     "data": {
      "text/plain": [
       "array([[0.25000054+1.96962990e-24j, 0.25000054+1.71327437e-19j,\n",
       "        0.25000018+6.63998523e-20j],\n",
       "       [0.24999946+1.30344873e-24j, 0.24999946+1.12258106e-21j,\n",
       "        0.24999983+2.29232833e-19j]])"
      ]
     },
     "execution_count": 16,
     "metadata": {},
     "output_type": "execute_result"
    }
   ],
   "source": [
    "sorted_density[-9,-1,0]"
   ]
  },
  {
   "cell_type": "code",
   "execution_count": 17,
   "id": "38a7b7bf",
   "metadata": {},
   "outputs": [
    {
     "data": {
      "text/plain": [
       "array([[0.25000056-1.82038406e-25j, 0.25000056+1.65352366e-19j,\n",
       "        0.25000056+3.13059017e-20j],\n",
       "       [0.24999944+3.25870620e-25j, 0.24999944+6.75640567e-20j,\n",
       "        0.24999944+1.10783628e-19j]])"
      ]
     },
     "execution_count": 17,
     "metadata": {},
     "output_type": "execute_result"
    }
   ],
   "source": [
    "sorted_density[-9,-1,-1]"
   ]
  },
  {
   "cell_type": "code",
   "execution_count": 18,
   "id": "cef7a29f",
   "metadata": {},
   "outputs": [
    {
     "data": {
      "text/plain": [
       "array([0.25118308-3.34383950e-25j, 0.25069695+8.88907972e-20j,\n",
       "       0.25069693-3.73842993e-20j])"
      ]
     },
     "execution_count": 18,
     "metadata": {},
     "output_type": "execute_result"
    }
   ],
   "source": [
    "sorted_density[-3,-1,4,0]"
   ]
  },
  {
   "cell_type": "code",
   "execution_count": 19,
   "id": "46563810",
   "metadata": {},
   "outputs": [
    {
     "data": {
      "text/plain": [
       "array([0.249035  +9.60062449e-26j, 0.24919401-2.81698415e-19j,\n",
       "       0.24919402-1.28960389e-20j])"
      ]
     },
     "execution_count": 19,
     "metadata": {},
     "output_type": "execute_result"
    }
   ],
   "source": [
    "sorted_density[-3,-1,4,1]"
   ]
  },
  {
   "cell_type": "code",
   "execution_count": 20,
   "id": "979b046d",
   "metadata": {},
   "outputs": [
    {
     "data": {
      "text/plain": [
       "<matplotlib.colorbar.Colorbar at 0x11fa88cd0>"
      ]
     },
     "execution_count": 20,
     "metadata": {},
     "output_type": "execute_result"
    },
    {
     "data": {
      "image/png": "[encoded data removed]",
      "text/plain": [
       "<Figure size 640x480 with 2 Axes>"
      ]
     },
     "metadata": {},
     "output_type": "display_data"
    }
   ],
   "source": [
    "plt.pcolormesh(v1_mesh,u_mesh,sorted_ground_state_e[:,:,0])\n",
    "plt.xlabel('V', size = '14')\n",
    "plt.ylabel('U', size = '14')\n",
    "plt.colorbar()"
   ]
  },
  {
   "cell_type": "code",
   "execution_count": 21,
   "id": "4c4ef37c",
   "metadata": {},
   "outputs": [
    {
     "data": {
      "text/plain": [
       "Text(0.5, 1.0, 'ground state c_6_diff')"
      ]
     },
     "execution_count": 21,
     "metadata": {},
     "output_type": "execute_result"
    },
    {
     "data": {
      "image/png": "[encoded data removed]",
      "text/plain": [
       "<Figure size 640x480 with 2 Axes>"
      ]
     },
     "metadata": {},
     "output_type": "display_data"
    }
   ],
   "source": [
    "plt.pcolormesh(v1_mesh,u_mesh,gs_n)\n",
    "plt.xlabel('V', size = '14')\n",
    "plt.ylabel('U', size = '14')\n",
    "plt.colorbar()\n",
    "plt.title('ground state c_6_diff')"
   ]
  },
  {
   "cell_type": "code",
   "execution_count": 22,
   "id": "20763e2e",
   "metadata": {},
   "outputs": [
    {
     "data": {
      "text/plain": [
       "Text(0.5, 1.0, 'ground state max magnetization')"
      ]
     },
     "execution_count": 22,
     "metadata": {},
     "output_type": "execute_result"
    },
    {
     "data": {
      "image/png": "[encoded data removed]",
      "text/plain": [
       "<Figure size 640x480 with 2 Axes>"
      ]
     },
     "metadata": {},
     "output_type": "display_data"
    }
   ],
   "source": [
    "plt.pcolormesh(v1_mesh,u_mesh,gs_m)\n",
    "plt.xlabel('V', size = '14')\n",
    "plt.ylabel('U', size = '14')\n",
    "plt.colorbar()\n",
    "plt.title('ground state max magnetization')"
   ]
  },
  {
   "cell_type": "code",
   "execution_count": 23,
   "id": "c32d7d48",
   "metadata": {},
   "outputs": [
    {
     "data": {
      "text/plain": [
       "array([[0.24999996+4.52827619e-26j, 0.24999996-2.69826373e-20j,\n",
       "        0.25000007+1.45648376e-19j],\n",
       "       [0.24999996+4.52827619e-26j, 0.24999996-2.69826373e-20j,\n",
       "        0.25000007+1.45648376e-19j]])"
      ]
     },
     "execution_count": 23,
     "metadata": {},
     "output_type": "execute_result"
    }
   ],
   "source": [
    "sorted_density[0,-1,0]"
   ]
  },
  {
   "cell_type": "code",
   "execution_count": 24,
   "id": "786ff3b7",
   "metadata": {},
   "outputs": [
    {
     "data": {
      "text/plain": [
       "array([[0.24999996+9.05997467e-23j, 0.25000008-4.22183833e-20j,\n",
       "        0.24999997-7.44541272e-20j],\n",
       "       [0.24999996+9.05997467e-23j, 0.25000008-4.22183833e-20j,\n",
       "        0.24999997-7.44541272e-20j]])"
      ]
     },
     "execution_count": 24,
     "metadata": {},
     "output_type": "execute_result"
    }
   ],
   "source": [
    "sorted_density[0,-1,1]"
   ]
  },
  {
   "cell_type": "code",
   "execution_count": 25,
   "id": "3b5e5972",
   "metadata": {},
   "outputs": [
    {
     "data": {
      "text/plain": [
       "(9, 2, 3, 3, 3)"
      ]
     },
     "execution_count": 25,
     "metadata": {},
     "output_type": "execute_result"
    }
   ],
   "source": [
    "final_bond[0,-1,0].shape"
   ]
  },
  {
   "cell_type": "code",
   "execution_count": 26,
   "id": "2bd70993",
   "metadata": {},
   "outputs": [],
   "source": [
    "import jax\n",
    "import jax.numpy as jnp\n",
    "import numpy as np\n",
    "import os\n",
    "from itertools import product\n",
    "\n",
    "from functions_parameters.jax_schf_kernel import schf_fixed_filling_pmap_over_u, schf_single_job\n",
    "from functions_parameters.jax_schf_helpers import *\n",
    "from functions_parameters.universal_parameters import a, b\n",
    "from functions_parameters.bond_table_generator import build_buckets_per_shell\n",
    "\n",
    "# ---- numeric mode ----\n",
    "from jax import config as _jax_config\n",
    "_jax_config.update(\"jax_enable_x64\", True)  # use float64 by default\n",
    "\n",
    "Array = jnp.ndarray\n",
    "PyTree = Any\n",
    "\n",
    "'''\n",
    "preparation:\n",
    "'''\n",
    "# order is important. for sublattice a, b and c respectively\n",
    "basis_frac = np.array([[1/2, 0], [1/2, 1/2], [0, 1/2]])\n",
    "norb = basis_frac.shape[0]\n",
    "num_k_mesh = 60\n",
    "b_0 = np.linspace(-b[0] / 2, b[0] / 2, num_k_mesh, endpoint=False)\n",
    "b_1 = np.linspace(-b[1] / 2, b[1] / 2, num_k_mesh, endpoint=False)\n",
    "k_mesh_points = np.vstack([v1 + v2 for v1, v2 in product(b_0, b_1)])\n",
    "num_k_points = k_mesh_points.shape[0]\n",
    "\n",
    "nshell_tb = 2\n",
    "radii, a_lists, deltas = build_buckets_per_shell(a, basis_frac, nshell_tb)\n",
    "\n",
    "# in this case, as both TB model and interaction, we include up to NNN, the a_list and deltas are the same\n",
    "# calculate the correlation matrix\n",
    "temperature = 4E-4\n",
    "filling = 3/4\n",
    "mu = 2\n",
    "t_nn = 1\n",
    "t_nnn = -0.025\n",
    "t_arr = np.array([t_nn, t_nnn])\n",
    "\n",
    "phase_pos, phase_neg = precompute_k_phase_tables(deltas, a, k_mesh_points)\n",
    "Htb, e_all, v_all, v_all_dagger = hk_all_k_from_phases(mu, a_lists, t_arr, phase_neg)\n",
    "\n",
    "# generate data for ref_state wrt interaction neighbors\n",
    "nshell_v = 3\n",
    "radii_v, a_lists_v, deltas_v = build_buckets_per_shell(a, basis_frac, nshell_v)\n",
    "phase_pos_v, phase_neg_v = precompute_k_phase_tables(deltas_v, a, k_mesh_points)\n",
    "dict_ref = prepare_reference_state(filling, a_lists_v, Htb, e_all, v_all, v_all_dagger, phase_pos_v, phase_neg_v, temperature)\n",
    "\n"
   ]
  },
  {
   "cell_type": "code",
   "execution_count": 27,
   "id": "fb138a75",
   "metadata": {},
   "outputs": [
    {
     "data": {
      "text/plain": [
       "Array(-0.00696942, dtype=float64)"
      ]
     },
     "execution_count": 27,
     "metadata": {},
     "output_type": "execute_result"
    }
   ],
   "source": [
    "dict_ref['e_fermi']"
   ]
  },
  {
   "cell_type": "code",
   "execution_count": 28,
   "id": "eb61b681",
   "metadata": {},
   "outputs": [
    {
     "data": {
      "text/plain": [
       "Array(0.1875, dtype=float64)"
      ]
     },
     "execution_count": 28,
     "metadata": {},
     "output_type": "execute_result"
    }
   ],
   "source": [
    "dict_ref['e_u_o']"
   ]
  },
  {
   "cell_type": "code",
   "execution_count": 29,
   "id": "2ca566d8",
   "metadata": {},
   "outputs": [
    {
     "data": {
      "text/plain": [
       "Array([1.31252039, 1.28953656, 2.13592464], dtype=float64)"
      ]
     },
     "execution_count": 29,
     "metadata": {},
     "output_type": "execute_result"
    }
   ],
   "source": [
    "dict_ref['e_v_o_arr']"
   ]
  },
  {
   "cell_type": "code",
   "execution_count": 30,
   "id": "01b426ef",
   "metadata": {},
   "outputs": [],
   "source": [
    "dict_ref_ref = prepare_reference_state(filling, a_lists, Htb, e_all, v_all, v_all_dagger, phase_pos, phase_neg, temperature)"
   ]
  },
  {
   "cell_type": "code",
   "execution_count": 31,
   "id": "471af3f0",
   "metadata": {},
   "outputs": [
    {
     "data": {
      "text/plain": [
       "Array(0.1875, dtype=float64)"
      ]
     },
     "execution_count": 31,
     "metadata": {},
     "output_type": "execute_result"
    }
   ],
   "source": [
    "dict_ref_ref['e_u_o']"
   ]
  },
  {
   "cell_type": "code",
   "execution_count": 32,
   "id": "1919119d",
   "metadata": {},
   "outputs": [
    {
     "data": {
      "text/plain": [
       "Array([1.31252039, 1.28953656], dtype=float64)"
      ]
     },
     "execution_count": 32,
     "metadata": {},
     "output_type": "execute_result"
    }
   ],
   "source": [
    "dict_ref_ref['e_v_o_arr']"
   ]
  },
  {
   "cell_type": "code",
   "execution_count": 33,
   "id": "a7a4d7fd",
   "metadata": {},
   "outputs": [],
   "source": [
    "radii_v, a_lists_v, deltas_v = build_buckets_per_shell(a, basis_frac, nshell_v)"
   ]
  },
  {
   "cell_type": "code",
   "execution_count": 34,
   "id": "ebfda491",
   "metadata": {},
   "outputs": [
    {
     "data": {
      "text/plain": [
       "[2.63949995385035, 4.571748, 5.2789999077007]"
      ]
     },
     "execution_count": 34,
     "metadata": {},
     "output_type": "execute_result"
    }
   ],
   "source": [
    "radii_v"
   ]
  },
  {
   "cell_type": "code",
   "execution_count": 35,
   "id": "df3f7474",
   "metadata": {},
   "outputs": [
    {
     "data": {
      "text/plain": [
       "array([[-1, -1],\n",
       "       [-1,  0],\n",
       "       [-1,  1],\n",
       "       [ 0, -1],\n",
       "       [ 0,  0],\n",
       "       [ 0,  1],\n",
       "       [ 1, -1],\n",
       "       [ 1,  0],\n",
       "       [ 1,  1]])"
      ]
     },
     "execution_count": 35,
     "metadata": {},
     "output_type": "execute_result"
    }
   ],
   "source": [
    "deltas_v"
   ]
  },
  {
   "cell_type": "code",
   "execution_count": 36,
   "id": "817a4c70",
   "metadata": {},
   "outputs": [
    {
     "data": {
      "text/plain": [
       "array([[ True, False, False],\n",
       "       [False,  True, False],\n",
       "       [False, False,  True]])"
      ]
     },
     "execution_count": 36,
     "metadata": {},
     "output_type": "execute_result"
    }
   ],
   "source": [
    "a_lists_v[0,2]"
   ]
  },
  {
   "cell_type": "code",
   "execution_count": 37,
   "id": "683eecbf",
   "metadata": {},
   "outputs": [
    {
     "data": {
      "text/plain": [
       "array([[ True, False, False],\n",
       "       [False,  True, False],\n",
       "       [False, False,  True]])"
      ]
     },
     "execution_count": 37,
     "metadata": {},
     "output_type": "execute_result"
    }
   ],
   "source": [
    "a_lists_v[1,2]"
   ]
  },
  {
   "cell_type": "code",
   "execution_count": 38,
   "id": "e483e4fa",
   "metadata": {},
   "outputs": [
    {
     "data": {
      "text/plain": [
       "array([[False, False, False],\n",
       "       [False, False, False],\n",
       "       [False, False, False]])"
      ]
     },
     "execution_count": 38,
     "metadata": {},
     "output_type": "execute_result"
    }
   ],
   "source": [
    "a_lists_v[2,2]"
   ]
  },
  {
   "cell_type": "code",
   "execution_count": 39,
   "id": "f1ddbc82",
   "metadata": {},
   "outputs": [
    {
     "data": {
      "text/plain": [
       "array([[ True, False, False],\n",
       "       [False,  True, False],\n",
       "       [False, False,  True]])"
      ]
     },
     "execution_count": 39,
     "metadata": {},
     "output_type": "execute_result"
    }
   ],
   "source": [
    "a_lists_v[3,2]"
   ]
  },
  {
   "cell_type": "code",
   "execution_count": 40,
   "id": "dbb47c9a",
   "metadata": {},
   "outputs": [
    {
     "data": {
      "text/plain": [
       "array([[False, False, False],\n",
       "       [False, False, False],\n",
       "       [False, False, False]])"
      ]
     },
     "execution_count": 40,
     "metadata": {},
     "output_type": "execute_result"
    }
   ],
   "source": [
    "a_lists_v[4,2]"
   ]
  },
  {
   "cell_type": "code",
   "execution_count": 41,
   "id": "574358dc",
   "metadata": {},
   "outputs": [],
   "source": [
    "radii, a_lists, deltas = build_buckets_per_shell(a, basis_frac, 2)"
   ]
  },
  {
   "cell_type": "code",
   "execution_count": 42,
   "id": "4bbed856",
   "metadata": {},
   "outputs": [
    {
     "data": {
      "text/plain": [
       "array([[-1, -1],\n",
       "       [-1,  0],\n",
       "       [-1,  1],\n",
       "       [ 0, -1],\n",
       "       [ 0,  0],\n",
       "       [ 0,  1],\n",
       "       [ 1, -1],\n",
       "       [ 1,  0],\n",
       "       [ 1,  1]])"
      ]
     },
     "execution_count": 42,
     "metadata": {},
     "output_type": "execute_result"
    }
   ],
   "source": [
    "deltas"
   ]
  },
  {
   "cell_type": "code",
   "execution_count": 43,
   "id": "73bc391b",
   "metadata": {},
   "outputs": [
    {
     "data": {
      "text/plain": [
       "np.float64(0.0)"
      ]
     },
     "execution_count": 43,
     "metadata": {},
     "output_type": "execute_result"
    }
   ],
   "source": [
    "la.norm(deltas - deltas_v)"
   ]
  },
  {
   "cell_type": "code",
   "execution_count": 44,
   "id": "40782b25",
   "metadata": {},
   "outputs": [
    {
     "data": {
      "text/plain": [
       "True"
      ]
     },
     "execution_count": 44,
     "metadata": {},
     "output_type": "execute_result"
    }
   ],
   "source": [
    "np.array_equal(a_lists,a_lists_v[:,:2,:,:])"
   ]
  },
  {
   "cell_type": "code",
   "execution_count": 45,
   "id": "748d3b6f",
   "metadata": {},
   "outputs": [
    {
     "data": {
      "text/plain": [
       "array([[-1, -1],\n",
       "       [-1,  0],\n",
       "       [-1,  1],\n",
       "       [ 0, -1],\n",
       "       [ 0,  0],\n",
       "       [ 0,  1],\n",
       "       [ 1, -1],\n",
       "       [ 1,  0],\n",
       "       [ 1,  1]])"
      ]
     },
     "execution_count": 45,
     "metadata": {},
     "output_type": "execute_result"
    }
   ],
   "source": [
    "deltas"
   ]
  },
  {
   "cell_type": "code",
   "execution_count": 46,
   "id": "f8f57b3c",
   "metadata": {},
   "outputs": [
    {
     "data": {
      "text/plain": [
       "array([[ 0.12051586-6.97971121e-17j,  0.        -0.00000000e+00j,\n",
       "        -0.        +0.00000000e+00j],\n",
       "       [-0.        +0.00000000e+00j,  0.06971863+2.84478547e-17j,\n",
       "        -0.        +0.00000000e+00j],\n",
       "       [-0.        +0.00000000e+00j,  0.        -0.00000000e+00j,\n",
       "         0.12051586-9.70942430e-18j]])"
      ]
     },
     "execution_count": 46,
     "metadata": {},
     "output_type": "execute_result"
    }
   ],
   "source": [
    "final_bond[0,-1,0,0,0,2]"
   ]
  },
  {
   "cell_type": "code",
   "execution_count": null,
   "id": "f07820ea",
   "metadata": {},
   "outputs": [],
   "source": []
  },
  {
   "cell_type": "code",
   "execution_count": 47,
   "id": "324df4b7",
   "metadata": {},
   "outputs": [
    {
     "data": {
      "text/plain": [
       "array([-0.29248843, -0.29248843, -0.29248843, -0.29248843, -0.29248843,\n",
       "       -0.29248843, -0.29248843, -0.29248843, -0.29248843, -0.29248843])"
      ]
     },
     "execution_count": 47,
     "metadata": {},
     "output_type": "execute_result"
    }
   ],
   "source": [
    "sorted_ground_state_e[0,-1]"
   ]
  },
  {
   "cell_type": "code",
   "execution_count": 48,
   "id": "cde01061",
   "metadata": {},
   "outputs": [
    {
     "data": {
      "text/plain": [
       "array([-0.03439596, -0.03439596, -0.03439596, -0.03439596, -0.03439596,\n",
       "       -0.03439596, -0.03439596, -0.02232133, -0.01418975, -0.01418975])"
      ]
     },
     "execution_count": 48,
     "metadata": {},
     "output_type": "execute_result"
    }
   ],
   "source": [
    "sorted_ground_state_e[4,5]"
   ]
  },
  {
   "cell_type": "code",
   "execution_count": 49,
   "id": "056dacab",
   "metadata": {},
   "outputs": [
    {
     "data": {
      "text/plain": [
       "array([[0.34842594+8.65473640e-23j, 0.34842592-2.39896788e-19j,\n",
       "        0.34842592+1.85529461e-19j],\n",
       "       [0.15157403+6.77297173e-23j, 0.15157409+6.34326580e-20j,\n",
       "        0.1515741 +1.20179545e-19j]])"
      ]
     },
     "execution_count": 49,
     "metadata": {},
     "output_type": "execute_result"
    }
   ],
   "source": [
    "sorted_density[4,5,0]"
   ]
  },
  {
   "cell_type": "code",
   "execution_count": 50,
   "id": "8ff02ccf",
   "metadata": {},
   "outputs": [
    {
     "data": {
      "text/plain": [
       "array([[0.34842592-3.19435035e-24j, 0.34842591+1.57922350e-19j,\n",
       "        0.34842595-9.94008111e-20j],\n",
       "       [0.1515741 -1.04700904e-22j, 0.15157412+5.45907011e-20j,\n",
       "        0.15157401+4.91834681e-20j]])"
      ]
     },
     "execution_count": 50,
     "metadata": {},
     "output_type": "execute_result"
    }
   ],
   "source": [
    "sorted_density[4,5,6]"
   ]
  },
  {
   "cell_type": "code",
   "execution_count": 51,
   "id": "0cf08972",
   "metadata": {},
   "outputs": [
    {
     "data": {
      "text/plain": [
       "array([4, 8, 0, 7, 6, 9, 5, 3, 2, 1])"
      ]
     },
     "execution_count": 51,
     "metadata": {},
     "output_type": "execute_result"
    }
   ],
   "source": [
    "sorted_ground_state_e_index[4,5]"
   ]
  },
  {
   "cell_type": "code",
   "execution_count": 52,
   "id": "ec9038e7",
   "metadata": {},
   "outputs": [
    {
     "data": {
      "text/plain": [
       "array([[[[[ 0.        +0.00000000e+00j,  0.        +0.00000000e+00j,\n",
       "           -0.        +0.00000000e+00j],\n",
       "          [ 0.        +0.00000000e+00j, -0.        +0.00000000e+00j,\n",
       "            0.        -0.00000000e+00j],\n",
       "          [-0.        +0.00000000e+00j,  0.        +0.00000000e+00j,\n",
       "            0.        +0.00000000e+00j]],\n",
       "\n",
       "         [[ 0.        +0.00000000e+00j,  0.06680964+1.31658653e-17j,\n",
       "           -0.        +0.00000000e+00j],\n",
       "          [ 0.        +0.00000000e+00j, -0.        +0.00000000e+00j,\n",
       "            0.        -0.00000000e+00j],\n",
       "          [-0.        +0.00000000e+00j,  0.0257114 -2.54256821e-14j,\n",
       "            0.        +0.00000000e+00j]],\n",
       "\n",
       "         [[ 0.03918902+1.20004663e-12j,  0.        +0.00000000e+00j,\n",
       "           -0.        +0.00000000e+00j],\n",
       "          [ 0.        +0.00000000e+00j, -0.03960071+7.06653516e-13j,\n",
       "            0.        -0.00000000e+00j],\n",
       "          [-0.        +0.00000000e+00j,  0.        +0.00000000e+00j,\n",
       "            0.08254845+1.26602895e-12j]]],\n",
       "\n",
       "\n",
       "        [[[ 0.        +0.00000000e+00j,  0.        +0.00000000e+00j,\n",
       "           -0.        +0.00000000e+00j],\n",
       "          [ 0.        +0.00000000e+00j, -0.        +0.00000000e+00j,\n",
       "            0.        -0.00000000e+00j],\n",
       "          [-0.        +0.00000000e+00j,  0.        +0.00000000e+00j,\n",
       "            0.        +0.00000000e+00j]],\n",
       "\n",
       "         [[ 0.        +0.00000000e+00j,  0.06680964+1.31658653e-17j,\n",
       "           -0.        +0.00000000e+00j],\n",
       "          [ 0.        +0.00000000e+00j, -0.        +0.00000000e+00j,\n",
       "            0.        -0.00000000e+00j],\n",
       "          [-0.        +0.00000000e+00j,  0.0257114 -2.54256821e-14j,\n",
       "            0.        +0.00000000e+00j]],\n",
       "\n",
       "         [[ 0.03918902+1.20004663e-12j,  0.        +0.00000000e+00j,\n",
       "           -0.        +0.00000000e+00j],\n",
       "          [ 0.        +0.00000000e+00j, -0.03960071+7.06653516e-13j,\n",
       "            0.        -0.00000000e+00j],\n",
       "          [-0.        +0.00000000e+00j,  0.        +0.00000000e+00j,\n",
       "            0.08254845+1.26602895e-12j]]]],\n",
       "\n",
       "\n",
       "\n",
       "       [[[[ 0.        -0.00000000e+00j,  0.        +0.00000000e+00j,\n",
       "            0.        +0.00000000e+00j],\n",
       "          [ 0.        +0.00000000e+00j,  0.        +0.00000000e+00j,\n",
       "           -0.        +0.00000000e+00j],\n",
       "          [-0.10902788-1.26460074e-12j, -0.10902764+1.26458985e-12j,\n",
       "            0.        +0.00000000e+00j]],\n",
       "\n",
       "         [[ 0.        -0.00000000e+00j,  0.        +0.00000000e+00j,\n",
       "            0.        +0.00000000e+00j],\n",
       "          [ 0.06680964+1.24064810e-16j,  0.        +0.00000000e+00j,\n",
       "           -0.        +0.00000000e+00j],\n",
       "          [ 0.        -0.00000000e+00j, -0.        +0.00000000e+00j,\n",
       "            0.        +0.00000000e+00j]],\n",
       "\n",
       "         [[-0.03960099-7.06515263e-13j,  0.        +0.00000000e+00j,\n",
       "            0.        +0.00000000e+00j],\n",
       "          [ 0.        +0.00000000e+00j,  0.03918878-1.20017690e-12j,\n",
       "           -0.        +0.00000000e+00j],\n",
       "          [ 0.        -0.00000000e+00j, -0.        +0.00000000e+00j,\n",
       "            0.08254803-1.26593932e-12j]]],\n",
       "\n",
       "\n",
       "        [[[ 0.        -0.00000000e+00j,  0.        +0.00000000e+00j,\n",
       "            0.        +0.00000000e+00j],\n",
       "          [ 0.        +0.00000000e+00j,  0.        +0.00000000e+00j,\n",
       "           -0.        +0.00000000e+00j],\n",
       "          [-0.10902788-1.26460074e-12j, -0.10902764+1.26458985e-12j,\n",
       "            0.        +0.00000000e+00j]],\n",
       "\n",
       "         [[ 0.        -0.00000000e+00j,  0.        +0.00000000e+00j,\n",
       "            0.        +0.00000000e+00j],\n",
       "          [ 0.06680964+1.24064810e-16j,  0.        +0.00000000e+00j,\n",
       "           -0.        +0.00000000e+00j],\n",
       "          [ 0.        -0.00000000e+00j, -0.        +0.00000000e+00j,\n",
       "            0.        +0.00000000e+00j]],\n",
       "\n",
       "         [[-0.03960099-7.06515263e-13j,  0.        +0.00000000e+00j,\n",
       "            0.        +0.00000000e+00j],\n",
       "          [ 0.        +0.00000000e+00j,  0.03918878-1.20017690e-12j,\n",
       "           -0.        +0.00000000e+00j],\n",
       "          [ 0.        -0.00000000e+00j, -0.        +0.00000000e+00j,\n",
       "            0.08254803-1.26593932e-12j]]]],\n",
       "\n",
       "\n",
       "\n",
       "       [[[[ 0.        -0.00000000e+00j,  0.        -0.00000000e+00j,\n",
       "            0.        -0.00000000e+00j],\n",
       "          [ 0.        +0.00000000e+00j,  0.        +0.00000000e+00j,\n",
       "            0.        -0.00000000e+00j],\n",
       "          [ 0.        +0.00000000e+00j,  0.        -0.00000000e+00j,\n",
       "           -0.        +0.00000000e+00j]],\n",
       "\n",
       "         [[ 0.        -0.00000000e+00j,  0.        -0.00000000e+00j,\n",
       "            0.        -0.00000000e+00j],\n",
       "          [ 0.        +0.00000000e+00j,  0.        +0.00000000e+00j,\n",
       "            0.        -0.00000000e+00j],\n",
       "          [ 0.02571156+2.54334075e-14j,  0.        -0.00000000e+00j,\n",
       "           -0.        +0.00000000e+00j]],\n",
       "\n",
       "         [[ 0.        -0.00000000e+00j,  0.        -0.00000000e+00j,\n",
       "            0.        -0.00000000e+00j],\n",
       "          [ 0.        +0.00000000e+00j,  0.        +0.00000000e+00j,\n",
       "            0.        -0.00000000e+00j],\n",
       "          [ 0.        +0.00000000e+00j,  0.        -0.00000000e+00j,\n",
       "           -0.        +0.00000000e+00j]]],\n",
       "\n",
       "\n",
       "        [[[ 0.        -0.00000000e+00j,  0.        -0.00000000e+00j,\n",
       "            0.        -0.00000000e+00j],\n",
       "          [ 0.        +0.00000000e+00j,  0.        +0.00000000e+00j,\n",
       "            0.        -0.00000000e+00j],\n",
       "          [ 0.        +0.00000000e+00j,  0.        -0.00000000e+00j,\n",
       "           -0.        +0.00000000e+00j]],\n",
       "\n",
       "         [[ 0.        -0.00000000e+00j,  0.        -0.00000000e+00j,\n",
       "            0.        -0.00000000e+00j],\n",
       "          [ 0.        +0.00000000e+00j,  0.        +0.00000000e+00j,\n",
       "            0.        -0.00000000e+00j],\n",
       "          [ 0.02571156+2.54334075e-14j,  0.        -0.00000000e+00j,\n",
       "           -0.        +0.00000000e+00j]],\n",
       "\n",
       "         [[ 0.        -0.00000000e+00j,  0.        -0.00000000e+00j,\n",
       "            0.        -0.00000000e+00j],\n",
       "          [ 0.        +0.00000000e+00j,  0.        +0.00000000e+00j,\n",
       "            0.        -0.00000000e+00j],\n",
       "          [ 0.        +0.00000000e+00j,  0.        -0.00000000e+00j,\n",
       "           -0.        +0.00000000e+00j]]]],\n",
       "\n",
       "\n",
       "\n",
       "       [[[[ 0.        +0.00000000e+00j, -0.15576012+1.24230903e-12j,\n",
       "           -0.10902788-1.26463843e-12j],\n",
       "          [-0.        +0.00000000e+00j,  0.        +0.00000000e+00j,\n",
       "            0.        +0.00000000e+00j],\n",
       "          [ 0.        +0.00000000e+00j, -0.        +0.00000000e+00j,\n",
       "            0.        +0.00000000e+00j]],\n",
       "\n",
       "         [[ 0.        +0.00000000e+00j, -0.        +0.00000000e+00j,\n",
       "            0.        -0.00000000e+00j],\n",
       "          [-0.        +0.00000000e+00j,  0.        +0.00000000e+00j,\n",
       "            0.0257114 -2.54219736e-14j],\n",
       "          [ 0.        +0.00000000e+00j, -0.        +0.00000000e+00j,\n",
       "            0.        +0.00000000e+00j]],\n",
       "\n",
       "         [[ 0.12936196-1.17169389e-12j, -0.        +0.00000000e+00j,\n",
       "            0.        -0.00000000e+00j],\n",
       "          [-0.        +0.00000000e+00j,  0.12936214-1.17166920e-12j,\n",
       "            0.        +0.00000000e+00j],\n",
       "          [ 0.        +0.00000000e+00j, -0.        +0.00000000e+00j,\n",
       "            0.02752108-8.74003096e-13j]]],\n",
       "\n",
       "\n",
       "        [[[ 0.        +0.00000000e+00j, -0.15576012+1.24230903e-12j,\n",
       "           -0.10902788-1.26463843e-12j],\n",
       "          [-0.        +0.00000000e+00j,  0.        +0.00000000e+00j,\n",
       "            0.        +0.00000000e+00j],\n",
       "          [ 0.        +0.00000000e+00j, -0.        +0.00000000e+00j,\n",
       "            0.        +0.00000000e+00j]],\n",
       "\n",
       "         [[ 0.        +0.00000000e+00j, -0.        +0.00000000e+00j,\n",
       "            0.        -0.00000000e+00j],\n",
       "          [-0.        +0.00000000e+00j,  0.        +0.00000000e+00j,\n",
       "            0.0257114 -2.54219736e-14j],\n",
       "          [ 0.        +0.00000000e+00j, -0.        +0.00000000e+00j,\n",
       "            0.        +0.00000000e+00j]],\n",
       "\n",
       "         [[ 0.12936196-1.17169389e-12j, -0.        +0.00000000e+00j,\n",
       "            0.        -0.00000000e+00j],\n",
       "          [-0.        +0.00000000e+00j,  0.12936214-1.17166920e-12j,\n",
       "            0.        +0.00000000e+00j],\n",
       "          [ 0.        +0.00000000e+00j, -0.        +0.00000000e+00j,\n",
       "            0.02752108-8.74003096e-13j]]]],\n",
       "\n",
       "\n",
       "\n",
       "       [[[[ 0.        +0.00000000e+00j, -0.15576012-1.24226353e-12j,\n",
       "            0.        +0.00000000e+00j],\n",
       "          [-0.15576012+1.24225962e-12j,  0.        +0.00000000e+00j,\n",
       "           -0.10902764+1.26461373e-12j],\n",
       "          [ 0.        +0.00000000e+00j, -0.10902764-1.26461101e-12j,\n",
       "            0.        +0.00000000e+00j]],\n",
       "\n",
       "         [[ 0.        +0.00000000e+00j,  0.        -0.00000000e+00j,\n",
       "            0.02571156+2.53974024e-14j],\n",
       "          [-0.        +0.00000000e+00j,  0.        +0.00000000e+00j,\n",
       "           -0.        +0.00000000e+00j],\n",
       "          [ 0.02571156-2.53974024e-14j,  0.        -0.00000000e+00j,\n",
       "            0.        +0.00000000e+00j]],\n",
       "\n",
       "         [[ 0.        +0.00000000e+00j,  0.        -0.00000000e+00j,\n",
       "            0.        +0.00000000e+00j],\n",
       "          [-0.        +0.00000000e+00j,  0.        +0.00000000e+00j,\n",
       "           -0.        +0.00000000e+00j],\n",
       "          [ 0.        +0.00000000e+00j,  0.        -0.00000000e+00j,\n",
       "            0.        +0.00000000e+00j]]],\n",
       "\n",
       "\n",
       "        [[[ 0.        +0.00000000e+00j, -0.15576012-1.24226353e-12j,\n",
       "            0.        +0.00000000e+00j],\n",
       "          [-0.15576012+1.24225962e-12j,  0.        +0.00000000e+00j,\n",
       "           -0.10902764+1.26461373e-12j],\n",
       "          [ 0.        +0.00000000e+00j, -0.10902764-1.26461101e-12j,\n",
       "            0.        +0.00000000e+00j]],\n",
       "\n",
       "         [[ 0.        +0.00000000e+00j,  0.        -0.00000000e+00j,\n",
       "            0.02571156+2.53974024e-14j],\n",
       "          [-0.        +0.00000000e+00j,  0.        +0.00000000e+00j,\n",
       "           -0.        +0.00000000e+00j],\n",
       "          [ 0.02571156-2.53974024e-14j,  0.        -0.00000000e+00j,\n",
       "            0.        +0.00000000e+00j]],\n",
       "\n",
       "         [[ 0.        +0.00000000e+00j,  0.        -0.00000000e+00j,\n",
       "            0.        +0.00000000e+00j],\n",
       "          [-0.        +0.00000000e+00j,  0.        +0.00000000e+00j,\n",
       "           -0.        +0.00000000e+00j],\n",
       "          [ 0.        +0.00000000e+00j,  0.        -0.00000000e+00j,\n",
       "            0.        +0.00000000e+00j]]]],\n",
       "\n",
       "\n",
       "\n",
       "       [[[[ 0.        +0.00000000e+00j,  0.        -0.00000000e+00j,\n",
       "            0.        +0.00000000e+00j],\n",
       "          [-0.15576012-1.24230903e-12j,  0.        +0.00000000e+00j,\n",
       "            0.        -0.00000000e+00j],\n",
       "          [-0.10902788+1.26463744e-12j,  0.        +0.00000000e+00j,\n",
       "            0.        +0.00000000e+00j]],\n",
       "\n",
       "         [[ 0.        +0.00000000e+00j,  0.        -0.00000000e+00j,\n",
       "            0.        +0.00000000e+00j],\n",
       "          [ 0.        -0.00000000e+00j,  0.        +0.00000000e+00j,\n",
       "            0.        -0.00000000e+00j],\n",
       "          [-0.        +0.00000000e+00j,  0.0257114 +2.54219736e-14j,\n",
       "            0.        +0.00000000e+00j]],\n",
       "\n",
       "         [[ 0.12936196+1.17169389e-12j,  0.        -0.00000000e+00j,\n",
       "            0.        +0.00000000e+00j],\n",
       "          [ 0.        -0.00000000e+00j,  0.12936214+1.17166920e-12j,\n",
       "            0.        -0.00000000e+00j],\n",
       "          [-0.        +0.00000000e+00j,  0.        +0.00000000e+00j,\n",
       "            0.02752108+8.74003096e-13j]]],\n",
       "\n",
       "\n",
       "        [[[ 0.        +0.00000000e+00j,  0.        -0.00000000e+00j,\n",
       "            0.        +0.00000000e+00j],\n",
       "          [-0.15576012-1.24230903e-12j,  0.        +0.00000000e+00j,\n",
       "            0.        -0.00000000e+00j],\n",
       "          [-0.10902788+1.26463744e-12j,  0.        +0.00000000e+00j,\n",
       "            0.        +0.00000000e+00j]],\n",
       "\n",
       "         [[ 0.        +0.00000000e+00j,  0.        -0.00000000e+00j,\n",
       "            0.        +0.00000000e+00j],\n",
       "          [ 0.        -0.00000000e+00j,  0.        +0.00000000e+00j,\n",
       "            0.        -0.00000000e+00j],\n",
       "          [-0.        +0.00000000e+00j,  0.0257114 +2.54219736e-14j,\n",
       "            0.        +0.00000000e+00j]],\n",
       "\n",
       "         [[ 0.12936196+1.17169389e-12j,  0.        -0.00000000e+00j,\n",
       "            0.        +0.00000000e+00j],\n",
       "          [ 0.        -0.00000000e+00j,  0.12936214+1.17166920e-12j,\n",
       "            0.        -0.00000000e+00j],\n",
       "          [-0.        +0.00000000e+00j,  0.        +0.00000000e+00j,\n",
       "            0.02752108+8.74003096e-13j]]]],\n",
       "\n",
       "\n",
       "\n",
       "       [[[[-0.        +0.00000000e+00j,  0.        +0.00000000e+00j,\n",
       "            0.        +0.00000000e+00j],\n",
       "          [-0.        +0.00000000e+00j,  0.        +0.00000000e+00j,\n",
       "           -0.        +0.00000000e+00j],\n",
       "          [-0.        +0.00000000e+00j, -0.        +0.00000000e+00j,\n",
       "            0.        -0.00000000e+00j]],\n",
       "\n",
       "         [[-0.        +0.00000000e+00j,  0.        +0.00000000e+00j,\n",
       "            0.02571156-2.54255126e-14j],\n",
       "          [-0.        +0.00000000e+00j,  0.        +0.00000000e+00j,\n",
       "           -0.        +0.00000000e+00j],\n",
       "          [-0.        +0.00000000e+00j, -0.        +0.00000000e+00j,\n",
       "            0.        -0.00000000e+00j]],\n",
       "\n",
       "         [[-0.        +0.00000000e+00j,  0.        +0.00000000e+00j,\n",
       "            0.        +0.00000000e+00j],\n",
       "          [-0.        +0.00000000e+00j,  0.        +0.00000000e+00j,\n",
       "           -0.        +0.00000000e+00j],\n",
       "          [-0.        +0.00000000e+00j, -0.        +0.00000000e+00j,\n",
       "            0.        -0.00000000e+00j]]],\n",
       "\n",
       "\n",
       "        [[[-0.        +0.00000000e+00j,  0.        +0.00000000e+00j,\n",
       "            0.        +0.00000000e+00j],\n",
       "          [-0.        +0.00000000e+00j,  0.        +0.00000000e+00j,\n",
       "           -0.        +0.00000000e+00j],\n",
       "          [-0.        +0.00000000e+00j, -0.        +0.00000000e+00j,\n",
       "            0.        -0.00000000e+00j]],\n",
       "\n",
       "         [[-0.        +0.00000000e+00j,  0.        +0.00000000e+00j,\n",
       "            0.02571156-2.54255126e-14j],\n",
       "          [-0.        +0.00000000e+00j,  0.        +0.00000000e+00j,\n",
       "           -0.        +0.00000000e+00j],\n",
       "          [-0.        +0.00000000e+00j, -0.        +0.00000000e+00j,\n",
       "            0.        -0.00000000e+00j]],\n",
       "\n",
       "         [[-0.        +0.00000000e+00j,  0.        +0.00000000e+00j,\n",
       "            0.        +0.00000000e+00j],\n",
       "          [-0.        +0.00000000e+00j,  0.        +0.00000000e+00j,\n",
       "           -0.        +0.00000000e+00j],\n",
       "          [-0.        +0.00000000e+00j, -0.        +0.00000000e+00j,\n",
       "            0.        -0.00000000e+00j]]]],\n",
       "\n",
       "\n",
       "\n",
       "       [[[[-0.        +0.00000000e+00j,  0.        +0.00000000e+00j,\n",
       "           -0.10902788+1.26459926e-12j],\n",
       "          [ 0.        +0.00000000e+00j,  0.        +0.00000000e+00j,\n",
       "           -0.10902764-1.26459034e-12j],\n",
       "          [ 0.        +0.00000000e+00j,  0.        -0.00000000e+00j,\n",
       "            0.        +0.00000000e+00j]],\n",
       "\n",
       "         [[-0.        +0.00000000e+00j,  0.06680964-1.17125916e-16j,\n",
       "           -0.        +0.00000000e+00j],\n",
       "          [ 0.        +0.00000000e+00j,  0.        +0.00000000e+00j,\n",
       "            0.        -0.00000000e+00j],\n",
       "          [ 0.        +0.00000000e+00j,  0.        -0.00000000e+00j,\n",
       "            0.        +0.00000000e+00j]],\n",
       "\n",
       "         [[-0.03960099+7.06515263e-13j,  0.        +0.00000000e+00j,\n",
       "           -0.        +0.00000000e+00j],\n",
       "          [ 0.        +0.00000000e+00j,  0.03918878+1.20017690e-12j,\n",
       "            0.        -0.00000000e+00j],\n",
       "          [ 0.        +0.00000000e+00j,  0.        -0.00000000e+00j,\n",
       "            0.08254803+1.26593932e-12j]]],\n",
       "\n",
       "\n",
       "        [[[-0.        +0.00000000e+00j,  0.        +0.00000000e+00j,\n",
       "           -0.10902788+1.26459926e-12j],\n",
       "          [ 0.        +0.00000000e+00j,  0.        +0.00000000e+00j,\n",
       "           -0.10902764-1.26459034e-12j],\n",
       "          [ 0.        +0.00000000e+00j,  0.        -0.00000000e+00j,\n",
       "            0.        +0.00000000e+00j]],\n",
       "\n",
       "         [[-0.        +0.00000000e+00j,  0.06680964-1.17125916e-16j,\n",
       "           -0.        +0.00000000e+00j],\n",
       "          [ 0.        +0.00000000e+00j,  0.        +0.00000000e+00j,\n",
       "            0.        -0.00000000e+00j],\n",
       "          [ 0.        +0.00000000e+00j,  0.        -0.00000000e+00j,\n",
       "            0.        +0.00000000e+00j]],\n",
       "\n",
       "         [[-0.03960099+7.06515263e-13j,  0.        +0.00000000e+00j,\n",
       "           -0.        +0.00000000e+00j],\n",
       "          [ 0.        +0.00000000e+00j,  0.03918878+1.20017690e-12j,\n",
       "            0.        -0.00000000e+00j],\n",
       "          [ 0.        +0.00000000e+00j,  0.        -0.00000000e+00j,\n",
       "            0.08254803+1.26593932e-12j]]]],\n",
       "\n",
       "\n",
       "\n",
       "       [[[[ 0.        +0.00000000e+00j,  0.        +0.00000000e+00j,\n",
       "            0.        -0.00000000e+00j],\n",
       "          [ 0.        +0.00000000e+00j,  0.        -0.00000000e+00j,\n",
       "            0.        +0.00000000e+00j],\n",
       "          [ 0.        -0.00000000e+00j, -0.        +0.00000000e+00j,\n",
       "            0.        +0.00000000e+00j]],\n",
       "\n",
       "         [[ 0.        +0.00000000e+00j,  0.        +0.00000000e+00j,\n",
       "            0.        -0.00000000e+00j],\n",
       "          [ 0.06680964-9.21840564e-18j,  0.        -0.00000000e+00j,\n",
       "            0.0257114 +2.54256821e-14j],\n",
       "          [ 0.        -0.00000000e+00j, -0.        +0.00000000e+00j,\n",
       "            0.        +0.00000000e+00j]],\n",
       "\n",
       "         [[ 0.03918902-1.20004663e-12j,  0.        +0.00000000e+00j,\n",
       "            0.        -0.00000000e+00j],\n",
       "          [ 0.        +0.00000000e+00j, -0.03960071-7.06653516e-13j,\n",
       "            0.        +0.00000000e+00j],\n",
       "          [ 0.        -0.00000000e+00j, -0.        +0.00000000e+00j,\n",
       "            0.08254845-1.26602895e-12j]]],\n",
       "\n",
       "\n",
       "        [[[ 0.        +0.00000000e+00j,  0.        +0.00000000e+00j,\n",
       "            0.        -0.00000000e+00j],\n",
       "          [ 0.        +0.00000000e+00j,  0.        -0.00000000e+00j,\n",
       "            0.        +0.00000000e+00j],\n",
       "          [ 0.        -0.00000000e+00j, -0.        +0.00000000e+00j,\n",
       "            0.        +0.00000000e+00j]],\n",
       "\n",
       "         [[ 0.        +0.00000000e+00j,  0.        +0.00000000e+00j,\n",
       "            0.        -0.00000000e+00j],\n",
       "          [ 0.06680964-9.21840564e-18j,  0.        -0.00000000e+00j,\n",
       "            0.0257114 +2.54256821e-14j],\n",
       "          [ 0.        -0.00000000e+00j, -0.        +0.00000000e+00j,\n",
       "            0.        +0.00000000e+00j]],\n",
       "\n",
       "         [[ 0.03918902-1.20004663e-12j,  0.        +0.00000000e+00j,\n",
       "            0.        -0.00000000e+00j],\n",
       "          [ 0.        +0.00000000e+00j, -0.03960071-7.06653516e-13j,\n",
       "            0.        +0.00000000e+00j],\n",
       "          [ 0.        -0.00000000e+00j, -0.        +0.00000000e+00j,\n",
       "            0.08254845-1.26602895e-12j]]]]])"
      ]
     },
     "execution_count": 52,
     "metadata": {},
     "output_type": "execute_result"
    }
   ],
   "source": [
    "final_bond[4,5,2]"
   ]
  },
  {
   "cell_type": "code",
   "execution_count": 53,
   "id": "ec506f82",
   "metadata": {},
   "outputs": [
    {
     "data": {
      "text/plain": [
       "array([[[[[ 0.        +0.00000000e+00j,  0.        +0.00000000e+00j,\n",
       "           -0.        +0.00000000e+00j],\n",
       "          [-0.        +0.00000000e+00j,  0.        -0.00000000e+00j,\n",
       "            0.        -0.00000000e+00j],\n",
       "          [ 0.        -0.00000000e+00j,  0.        +0.00000000e+00j,\n",
       "            0.        +0.00000000e+00j]],\n",
       "\n",
       "         [[ 0.        +0.00000000e+00j,  0.10810812-4.54170649e-17j,\n",
       "           -0.        +0.00000000e+00j],\n",
       "          [-0.        +0.00000000e+00j,  0.        -0.00000000e+00j,\n",
       "            0.        -0.00000000e+00j],\n",
       "          [ 0.        -0.00000000e+00j,  0.10810812+3.82158216e-19j,\n",
       "            0.        +0.00000000e+00j]],\n",
       "\n",
       "         [[ 0.06460265+3.27499218e-18j,  0.        +0.00000000e+00j,\n",
       "           -0.        +0.00000000e+00j],\n",
       "          [-0.        +0.00000000e+00j, -0.08753797-8.13996848e-18j,\n",
       "            0.        -0.00000000e+00j],\n",
       "          [ 0.        -0.00000000e+00j,  0.        +0.00000000e+00j,\n",
       "            0.06460264-3.24277235e-17j]]],\n",
       "\n",
       "\n",
       "        [[[ 0.        +0.00000000e+00j,  0.        -0.00000000e+00j,\n",
       "           -0.        +0.00000000e+00j],\n",
       "          [-0.        +0.00000000e+00j,  0.        +0.00000000e+00j,\n",
       "            0.        -0.00000000e+00j],\n",
       "          [-0.        +0.00000000e+00j,  0.        -0.00000000e+00j,\n",
       "            0.        +0.00000000e+00j]],\n",
       "\n",
       "         [[ 0.        +0.00000000e+00j, -0.01687139-1.37193008e-16j,\n",
       "           -0.        +0.00000000e+00j],\n",
       "          [-0.        +0.00000000e+00j,  0.        +0.00000000e+00j,\n",
       "            0.        -0.00000000e+00j],\n",
       "          [-0.        +0.00000000e+00j, -0.01687141-2.86525988e-16j,\n",
       "            0.        +0.00000000e+00j]],\n",
       "\n",
       "         [[ 0.09016616-7.16549604e-17j,  0.        -0.00000000e+00j,\n",
       "           -0.        +0.00000000e+00j],\n",
       "          [-0.        +0.00000000e+00j,  0.04433581+1.97857561e-16j,\n",
       "            0.        -0.00000000e+00j],\n",
       "          [-0.        +0.00000000e+00j,  0.        -0.00000000e+00j,\n",
       "            0.09016617+1.26607034e-16j]]]],\n",
       "\n",
       "\n",
       "\n",
       "       [[[[ 0.        -0.00000000e+00j,  0.        -0.00000000e+00j,\n",
       "            0.        +0.00000000e+00j],\n",
       "          [ 0.        +0.00000000e+00j,  0.        +0.00000000e+00j,\n",
       "           -0.        +0.00000000e+00j],\n",
       "          [-0.17390457+6.34521498e-17j, -0.17390456+4.02457954e-17j,\n",
       "            0.        +0.00000000e+00j]],\n",
       "\n",
       "         [[ 0.        -0.00000000e+00j,  0.        -0.00000000e+00j,\n",
       "            0.        +0.00000000e+00j],\n",
       "          [ 0.10810812+6.47725703e-17j,  0.        +0.00000000e+00j,\n",
       "           -0.        +0.00000000e+00j],\n",
       "          [-0.        +0.00000000e+00j, -0.        +0.00000000e+00j,\n",
       "            0.        +0.00000000e+00j]],\n",
       "\n",
       "         [[-0.08753797-1.37731590e-16j,  0.        -0.00000000e+00j,\n",
       "            0.        +0.00000000e+00j],\n",
       "          [ 0.        +0.00000000e+00j,  0.06460265+7.16921373e-17j,\n",
       "           -0.        +0.00000000e+00j],\n",
       "          [-0.        +0.00000000e+00j, -0.        +0.00000000e+00j,\n",
       "            0.06460265+2.24414104e-17j]]],\n",
       "\n",
       "\n",
       "        [[[ 0.        +0.00000000e+00j,  0.        -0.00000000e+00j,\n",
       "            0.        +0.00000000e+00j],\n",
       "          [ 0.        -0.00000000e+00j,  0.        +0.00000000e+00j,\n",
       "            0.        -0.00000000e+00j],\n",
       "          [-0.07527411+1.62187792e-16j, -0.07527417-1.52105204e-16j,\n",
       "            0.        +0.00000000e+00j]],\n",
       "\n",
       "         [[ 0.        +0.00000000e+00j,  0.        -0.00000000e+00j,\n",
       "            0.        +0.00000000e+00j],\n",
       "          [-0.01687139-9.62766635e-17j,  0.        +0.00000000e+00j,\n",
       "            0.        -0.00000000e+00j],\n",
       "          [-0.        +0.00000000e+00j,  0.        -0.00000000e+00j,\n",
       "            0.        +0.00000000e+00j]],\n",
       "\n",
       "         [[ 0.04433587+1.99470997e-17j,  0.        -0.00000000e+00j,\n",
       "            0.        +0.00000000e+00j],\n",
       "          [ 0.        -0.00000000e+00j,  0.09016621+2.85957885e-16j,\n",
       "            0.        -0.00000000e+00j],\n",
       "          [-0.        +0.00000000e+00j,  0.        -0.00000000e+00j,\n",
       "            0.09016621+1.66362831e-17j]]]],\n",
       "\n",
       "\n",
       "\n",
       "       [[[[ 0.        -0.00000000e+00j,  0.        -0.00000000e+00j,\n",
       "            0.        +0.00000000e+00j],\n",
       "          [ 0.        -0.00000000e+00j,  0.        +0.00000000e+00j,\n",
       "           -0.        +0.00000000e+00j],\n",
       "          [ 0.        +0.00000000e+00j, -0.        +0.00000000e+00j,\n",
       "           -0.        +0.00000000e+00j]],\n",
       "\n",
       "         [[ 0.        -0.00000000e+00j,  0.        -0.00000000e+00j,\n",
       "            0.        +0.00000000e+00j],\n",
       "          [ 0.        -0.00000000e+00j,  0.        +0.00000000e+00j,\n",
       "           -0.        +0.00000000e+00j],\n",
       "          [ 0.10810812-3.38676615e-17j, -0.        +0.00000000e+00j,\n",
       "           -0.        +0.00000000e+00j]],\n",
       "\n",
       "         [[ 0.        -0.00000000e+00j,  0.        -0.00000000e+00j,\n",
       "            0.        +0.00000000e+00j],\n",
       "          [ 0.        -0.00000000e+00j,  0.        +0.00000000e+00j,\n",
       "           -0.        +0.00000000e+00j],\n",
       "          [ 0.        +0.00000000e+00j, -0.        +0.00000000e+00j,\n",
       "           -0.        +0.00000000e+00j]]],\n",
       "\n",
       "\n",
       "        [[[-0.        +0.00000000e+00j, -0.        +0.00000000e+00j,\n",
       "            0.        +0.00000000e+00j],\n",
       "          [ 0.        -0.00000000e+00j,  0.        +0.00000000e+00j,\n",
       "            0.        -0.00000000e+00j],\n",
       "          [-0.        +0.00000000e+00j, -0.        +0.00000000e+00j,\n",
       "           -0.        +0.00000000e+00j]],\n",
       "\n",
       "         [[-0.        +0.00000000e+00j, -0.        +0.00000000e+00j,\n",
       "            0.        +0.00000000e+00j],\n",
       "          [ 0.        -0.00000000e+00j,  0.        +0.00000000e+00j,\n",
       "            0.        -0.00000000e+00j],\n",
       "          [-0.01687139+1.31627452e-16j, -0.        +0.00000000e+00j,\n",
       "           -0.        +0.00000000e+00j]],\n",
       "\n",
       "         [[-0.        +0.00000000e+00j, -0.        +0.00000000e+00j,\n",
       "            0.        +0.00000000e+00j],\n",
       "          [ 0.        -0.00000000e+00j,  0.        +0.00000000e+00j,\n",
       "            0.        -0.00000000e+00j],\n",
       "          [-0.        +0.00000000e+00j, -0.        +0.00000000e+00j,\n",
       "           -0.        +0.00000000e+00j]]]],\n",
       "\n",
       "\n",
       "\n",
       "       [[[[ 0.        +0.00000000e+00j, -0.17390457-3.62208462e-17j,\n",
       "           -0.17390457-1.75324519e-17j],\n",
       "          [ 0.        -0.00000000e+00j,  0.        +0.00000000e+00j,\n",
       "            0.        +0.00000000e+00j],\n",
       "          [ 0.        +0.00000000e+00j, -0.        +0.00000000e+00j,\n",
       "            0.        -0.00000000e+00j]],\n",
       "\n",
       "         [[ 0.        +0.00000000e+00j,  0.        -0.00000000e+00j,\n",
       "            0.        -0.00000000e+00j],\n",
       "          [ 0.        -0.00000000e+00j,  0.        +0.00000000e+00j,\n",
       "            0.10810812-5.08449670e-19j],\n",
       "          [ 0.        +0.00000000e+00j, -0.        +0.00000000e+00j,\n",
       "            0.        -0.00000000e+00j]],\n",
       "\n",
       "         [[ 0.06460265-2.15705927e-18j,  0.        -0.00000000e+00j,\n",
       "            0.        -0.00000000e+00j],\n",
       "          [ 0.        -0.00000000e+00j,  0.06460264-6.71068546e-17j,\n",
       "            0.        +0.00000000e+00j],\n",
       "          [ 0.        +0.00000000e+00j, -0.        +0.00000000e+00j,\n",
       "           -0.08753797-9.57348568e-18j]]],\n",
       "\n",
       "\n",
       "        [[[ 0.        +0.00000000e+00j, -0.07527411-1.31785799e-16j,\n",
       "           -0.07527411+1.55443573e-16j],\n",
       "          [ 0.        -0.00000000e+00j,  0.        +0.00000000e+00j,\n",
       "            0.        -0.00000000e+00j],\n",
       "          [ 0.        +0.00000000e+00j,  0.        -0.00000000e+00j,\n",
       "            0.        +0.00000000e+00j]],\n",
       "\n",
       "         [[ 0.        +0.00000000e+00j,  0.        -0.00000000e+00j,\n",
       "           -0.        +0.00000000e+00j],\n",
       "          [ 0.        -0.00000000e+00j,  0.        +0.00000000e+00j,\n",
       "           -0.01687141-2.80092100e-16j],\n",
       "          [ 0.        +0.00000000e+00j,  0.        -0.00000000e+00j,\n",
       "            0.        +0.00000000e+00j]],\n",
       "\n",
       "         [[ 0.09016615+2.97276951e-16j,  0.        -0.00000000e+00j,\n",
       "           -0.        +0.00000000e+00j],\n",
       "          [ 0.        -0.00000000e+00j,  0.09016617+4.13217709e-16j,\n",
       "            0.        -0.00000000e+00j],\n",
       "          [ 0.        +0.00000000e+00j,  0.        -0.00000000e+00j,\n",
       "            0.04433581+2.46254779e-16j]]]],\n",
       "\n",
       "\n",
       "\n",
       "       [[[[ 0.        +0.00000000e+00j, -0.17390457-4.93450453e-18j,\n",
       "            0.        +0.00000000e+00j],\n",
       "          [-0.17390457+4.45649184e-18j,  0.        +0.00000000e+00j,\n",
       "           -0.17390456-1.37079596e-17j],\n",
       "          [ 0.        +0.00000000e+00j, -0.17390456+9.76049998e-18j,\n",
       "            0.        +0.00000000e+00j]],\n",
       "\n",
       "         [[ 0.        +0.00000000e+00j,  0.        -0.00000000e+00j,\n",
       "            0.10810812+7.58285413e-17j],\n",
       "          [-0.        +0.00000000e+00j,  0.        +0.00000000e+00j,\n",
       "            0.        -0.00000000e+00j],\n",
       "          [ 0.10810812-7.58285413e-17j, -0.        +0.00000000e+00j,\n",
       "            0.        +0.00000000e+00j]],\n",
       "\n",
       "         [[ 0.        +0.00000000e+00j,  0.        -0.00000000e+00j,\n",
       "            0.        +0.00000000e+00j],\n",
       "          [-0.        +0.00000000e+00j,  0.        +0.00000000e+00j,\n",
       "            0.        -0.00000000e+00j],\n",
       "          [ 0.        +0.00000000e+00j, -0.        +0.00000000e+00j,\n",
       "            0.        +0.00000000e+00j]]],\n",
       "\n",
       "\n",
       "        [[[ 0.        +0.00000000e+00j, -0.07527411+1.39965984e-16j,\n",
       "           -0.        +0.00000000e+00j],\n",
       "          [-0.07527411-1.39098623e-16j,  0.        +0.00000000e+00j,\n",
       "           -0.07527417-1.36882042e-16j],\n",
       "          [ 0.        -0.00000000e+00j, -0.07527417+1.33352843e-16j,\n",
       "            0.        +0.00000000e+00j]],\n",
       "\n",
       "         [[ 0.        +0.00000000e+00j, -0.        +0.00000000e+00j,\n",
       "           -0.01687139+1.69791368e-16j],\n",
       "          [ 0.        -0.00000000e+00j,  0.        +0.00000000e+00j,\n",
       "            0.        -0.00000000e+00j],\n",
       "          [-0.01687139-1.60878745e-16j, -0.        +0.00000000e+00j,\n",
       "            0.        +0.00000000e+00j]],\n",
       "\n",
       "         [[ 0.        +0.00000000e+00j, -0.        +0.00000000e+00j,\n",
       "           -0.        +0.00000000e+00j],\n",
       "          [ 0.        -0.00000000e+00j,  0.        +0.00000000e+00j,\n",
       "            0.        -0.00000000e+00j],\n",
       "          [ 0.        -0.00000000e+00j, -0.        +0.00000000e+00j,\n",
       "            0.        +0.00000000e+00j]]]],\n",
       "\n",
       "\n",
       "\n",
       "       [[[[ 0.        +0.00000000e+00j, -0.        +0.00000000e+00j,\n",
       "            0.        +0.00000000e+00j],\n",
       "          [-0.17390457+3.62208462e-17j,  0.        +0.00000000e+00j,\n",
       "            0.        -0.00000000e+00j],\n",
       "          [-0.17390457+1.75324519e-17j,  0.        +0.00000000e+00j,\n",
       "           -0.        +0.00000000e+00j]],\n",
       "\n",
       "         [[ 0.        +0.00000000e+00j, -0.        +0.00000000e+00j,\n",
       "            0.        +0.00000000e+00j],\n",
       "          [-0.        +0.00000000e+00j,  0.        +0.00000000e+00j,\n",
       "            0.        -0.00000000e+00j],\n",
       "          [-0.        +0.00000000e+00j,  0.10810812+9.11291010e-19j,\n",
       "           -0.        +0.00000000e+00j]],\n",
       "\n",
       "         [[ 0.06460265+2.15705927e-18j, -0.        +0.00000000e+00j,\n",
       "            0.        +0.00000000e+00j],\n",
       "          [-0.        +0.00000000e+00j,  0.06460264+6.71068546e-17j,\n",
       "            0.        -0.00000000e+00j],\n",
       "          [-0.        +0.00000000e+00j,  0.        +0.00000000e+00j,\n",
       "           -0.08753797+9.57348568e-18j]]],\n",
       "\n",
       "\n",
       "        [[[ 0.        +0.00000000e+00j, -0.        +0.00000000e+00j,\n",
       "            0.        +0.00000000e+00j],\n",
       "          [-0.07527411+1.30918438e-16j,  0.        +0.00000000e+00j,\n",
       "           -0.        +0.00000000e+00j],\n",
       "          [-0.07527411-1.55937005e-16j, -0.        +0.00000000e+00j,\n",
       "            0.        +0.00000000e+00j]],\n",
       "\n",
       "         [[ 0.        +0.00000000e+00j, -0.        +0.00000000e+00j,\n",
       "            0.        +0.00000000e+00j],\n",
       "          [-0.        +0.00000000e+00j,  0.        +0.00000000e+00j,\n",
       "           -0.        +0.00000000e+00j],\n",
       "          [ 0.        -0.00000000e+00j, -0.01687141+2.80445937e-16j,\n",
       "            0.        +0.00000000e+00j]],\n",
       "\n",
       "         [[ 0.09016615-2.97276951e-16j, -0.        +0.00000000e+00j,\n",
       "            0.        +0.00000000e+00j],\n",
       "          [-0.        +0.00000000e+00j,  0.09016617-4.13217709e-16j,\n",
       "           -0.        +0.00000000e+00j],\n",
       "          [ 0.        -0.00000000e+00j, -0.        +0.00000000e+00j,\n",
       "            0.04433581-2.46254779e-16j]]]],\n",
       "\n",
       "\n",
       "\n",
       "       [[[[-0.        +0.00000000e+00j, -0.        +0.00000000e+00j,\n",
       "            0.        +0.00000000e+00j],\n",
       "          [-0.        +0.00000000e+00j,  0.        +0.00000000e+00j,\n",
       "            0.        -0.00000000e+00j],\n",
       "          [ 0.        +0.00000000e+00j,  0.        -0.00000000e+00j,\n",
       "            0.        -0.00000000e+00j]],\n",
       "\n",
       "         [[-0.        +0.00000000e+00j, -0.        +0.00000000e+00j,\n",
       "            0.10810812+3.38676615e-17j],\n",
       "          [-0.        +0.00000000e+00j,  0.        +0.00000000e+00j,\n",
       "            0.        -0.00000000e+00j],\n",
       "          [ 0.        +0.00000000e+00j,  0.        -0.00000000e+00j,\n",
       "            0.        -0.00000000e+00j]],\n",
       "\n",
       "         [[-0.        +0.00000000e+00j, -0.        +0.00000000e+00j,\n",
       "            0.        +0.00000000e+00j],\n",
       "          [-0.        +0.00000000e+00j,  0.        +0.00000000e+00j,\n",
       "            0.        -0.00000000e+00j],\n",
       "          [ 0.        +0.00000000e+00j,  0.        -0.00000000e+00j,\n",
       "            0.        -0.00000000e+00j]]],\n",
       "\n",
       "\n",
       "        [[[ 0.        -0.00000000e+00j, -0.        +0.00000000e+00j,\n",
       "            0.        -0.00000000e+00j],\n",
       "          [ 0.        -0.00000000e+00j,  0.        +0.00000000e+00j,\n",
       "            0.        -0.00000000e+00j],\n",
       "          [ 0.        +0.00000000e+00j, -0.        +0.00000000e+00j,\n",
       "            0.        -0.00000000e+00j]],\n",
       "\n",
       "         [[ 0.        -0.00000000e+00j, -0.        +0.00000000e+00j,\n",
       "           -0.01687139-1.31627452e-16j],\n",
       "          [ 0.        -0.00000000e+00j,  0.        +0.00000000e+00j,\n",
       "            0.        -0.00000000e+00j],\n",
       "          [ 0.        +0.00000000e+00j, -0.        +0.00000000e+00j,\n",
       "            0.        -0.00000000e+00j]],\n",
       "\n",
       "         [[ 0.        -0.00000000e+00j, -0.        +0.00000000e+00j,\n",
       "            0.        -0.00000000e+00j],\n",
       "          [ 0.        -0.00000000e+00j,  0.        +0.00000000e+00j,\n",
       "            0.        -0.00000000e+00j],\n",
       "          [ 0.        +0.00000000e+00j, -0.        +0.00000000e+00j,\n",
       "            0.        -0.00000000e+00j]]]],\n",
       "\n",
       "\n",
       "\n",
       "       [[[[-0.        +0.00000000e+00j,  0.        +0.00000000e+00j,\n",
       "           -0.17390457-6.34521498e-17j],\n",
       "          [-0.        +0.00000000e+00j,  0.        +0.00000000e+00j,\n",
       "           -0.17390456-4.41932551e-17j],\n",
       "          [ 0.        +0.00000000e+00j,  0.        -0.00000000e+00j,\n",
       "            0.        +0.00000000e+00j]],\n",
       "\n",
       "         [[-0.        +0.00000000e+00j,  0.10810812-6.47725703e-17j,\n",
       "            0.        -0.00000000e+00j],\n",
       "          [-0.        +0.00000000e+00j,  0.        +0.00000000e+00j,\n",
       "            0.        -0.00000000e+00j],\n",
       "          [ 0.        +0.00000000e+00j,  0.        -0.00000000e+00j,\n",
       "            0.        +0.00000000e+00j]],\n",
       "\n",
       "         [[-0.08753797+1.37731590e-16j,  0.        +0.00000000e+00j,\n",
       "            0.        -0.00000000e+00j],\n",
       "          [-0.        +0.00000000e+00j,  0.06460265-7.16921373e-17j,\n",
       "            0.        -0.00000000e+00j],\n",
       "          [ 0.        +0.00000000e+00j,  0.        -0.00000000e+00j,\n",
       "            0.06460265-2.24414104e-17j]]],\n",
       "\n",
       "\n",
       "        [[[ 0.        +0.00000000e+00j, -0.        +0.00000000e+00j,\n",
       "           -0.07527411-1.59585707e-16j],\n",
       "          [-0.        +0.00000000e+00j,  0.        +0.00000000e+00j,\n",
       "           -0.07527417+1.51611772e-16j],\n",
       "          [ 0.        +0.00000000e+00j, -0.        +0.00000000e+00j,\n",
       "            0.        +0.00000000e+00j]],\n",
       "\n",
       "         [[ 0.        +0.00000000e+00j, -0.01687139+9.62766635e-17j,\n",
       "            0.        -0.00000000e+00j],\n",
       "          [-0.        +0.00000000e+00j,  0.        +0.00000000e+00j,\n",
       "           -0.        +0.00000000e+00j],\n",
       "          [ 0.        +0.00000000e+00j, -0.        +0.00000000e+00j,\n",
       "            0.        +0.00000000e+00j]],\n",
       "\n",
       "         [[ 0.04433587-1.99470997e-17j, -0.        +0.00000000e+00j,\n",
       "            0.        -0.00000000e+00j],\n",
       "          [-0.        +0.00000000e+00j,  0.09016621-2.85957885e-16j,\n",
       "           -0.        +0.00000000e+00j],\n",
       "          [ 0.        +0.00000000e+00j, -0.        +0.00000000e+00j,\n",
       "            0.09016621-1.66362831e-17j]]]],\n",
       "\n",
       "\n",
       "\n",
       "       [[[[ 0.        +0.00000000e+00j,  0.        -0.00000000e+00j,\n",
       "           -0.        +0.00000000e+00j],\n",
       "          [ 0.        +0.00000000e+00j, -0.        +0.00000000e+00j,\n",
       "            0.        +0.00000000e+00j],\n",
       "          [ 0.        -0.00000000e+00j, -0.        +0.00000000e+00j,\n",
       "            0.        +0.00000000e+00j]],\n",
       "\n",
       "         [[ 0.        +0.00000000e+00j,  0.        -0.00000000e+00j,\n",
       "           -0.        +0.00000000e+00j],\n",
       "          [ 0.10810812+4.54170649e-17j, -0.        +0.00000000e+00j,\n",
       "            0.10810812-6.30801915e-19j],\n",
       "          [ 0.        -0.00000000e+00j, -0.        +0.00000000e+00j,\n",
       "            0.        +0.00000000e+00j]],\n",
       "\n",
       "         [[ 0.06460265-3.27499218e-18j,  0.        -0.00000000e+00j,\n",
       "           -0.        +0.00000000e+00j],\n",
       "          [ 0.        +0.00000000e+00j, -0.08753797+8.13996848e-18j,\n",
       "            0.        +0.00000000e+00j],\n",
       "          [ 0.        -0.00000000e+00j, -0.        +0.00000000e+00j,\n",
       "            0.06460264+3.24277235e-17j]]],\n",
       "\n",
       "\n",
       "        [[[ 0.        +0.00000000e+00j,  0.        -0.00000000e+00j,\n",
       "            0.        -0.00000000e+00j],\n",
       "          [-0.        +0.00000000e+00j,  0.        +0.00000000e+00j,\n",
       "           -0.        +0.00000000e+00j],\n",
       "          [ 0.        -0.00000000e+00j, -0.        +0.00000000e+00j,\n",
       "            0.        +0.00000000e+00j]],\n",
       "\n",
       "         [[ 0.        +0.00000000e+00j,  0.        -0.00000000e+00j,\n",
       "            0.        -0.00000000e+00j],\n",
       "          [-0.01687139+1.37193008e-16j,  0.        +0.00000000e+00j,\n",
       "           -0.01687141+2.86111025e-16j],\n",
       "          [ 0.        -0.00000000e+00j, -0.        +0.00000000e+00j,\n",
       "            0.        +0.00000000e+00j]],\n",
       "\n",
       "         [[ 0.09016616+7.16549604e-17j,  0.        -0.00000000e+00j,\n",
       "            0.        -0.00000000e+00j],\n",
       "          [-0.        +0.00000000e+00j,  0.04433581-1.97857561e-16j,\n",
       "           -0.        +0.00000000e+00j],\n",
       "          [ 0.        -0.00000000e+00j, -0.        +0.00000000e+00j,\n",
       "            0.09016617-1.26607034e-16j]]]]])"
      ]
     },
     "execution_count": 53,
     "metadata": {},
     "output_type": "execute_result"
    }
   ],
   "source": [
    "final_bond[4,5,4]"
   ]
  },
  {
   "cell_type": "code",
   "execution_count": 54,
   "id": "9ae3cf0c",
   "metadata": {},
   "outputs": [
    {
     "data": {
      "text/plain": [
       "np.float64(0.5248833805301644)"
      ]
     },
     "execution_count": 54,
     "metadata": {},
     "output_type": "execute_result"
    }
   ],
   "source": [
    "la.norm(np.abs(final_bond[4,5,4] - final_bond[4,5,2])) "
   ]
  },
  {
   "cell_type": "code",
   "execution_count": 55,
   "id": "de9b33f2",
   "metadata": {},
   "outputs": [
    {
     "data": {
      "text/plain": [
       "array([[0.35064819-6.92867252e-23j, 0.35064813+1.29574566e-19j,\n",
       "        0.35064812-7.93849349e-20j],\n",
       "       [0.14935168+4.33798010e-24j, 0.14935193+6.57073632e-20j,\n",
       "        0.14935195-4.62749923e-20j]])"
      ]
     },
     "execution_count": 55,
     "metadata": {},
     "output_type": "execute_result"
    }
   ],
   "source": [
    "sorted_density[6,5,0]"
   ]
  },
  {
   "cell_type": "code",
   "execution_count": 56,
   "id": "ce49e5bf",
   "metadata": {},
   "outputs": [
    {
     "data": {
      "text/plain": [
       "array([-0.29248846, -0.29248846, -0.29248845, -0.29248845, -0.29248845,\n",
       "       -0.29248845, -0.29248843, -0.29248843, -0.29248843, -0.29248842])"
      ]
     },
     "execution_count": 56,
     "metadata": {},
     "output_type": "execute_result"
    }
   ],
   "source": [
    "sorted_ground_state_e[-2,-1]"
   ]
  },
  {
   "cell_type": "code",
   "execution_count": 57,
   "id": "14749d17",
   "metadata": {},
   "outputs": [
    {
     "data": {
      "text/plain": [
       "array([[0.25120378+1.24503260e-24j, 0.25071002+1.08970489e-19j,\n",
       "        0.25071001-2.09274966e-20j],\n",
       "       [0.24902219+2.29788913e-24j, 0.249177  -6.42157128e-20j,\n",
       "        0.249177  -9.87385272e-20j]])"
      ]
     },
     "execution_count": 57,
     "metadata": {},
     "output_type": "execute_result"
    }
   ],
   "source": [
    "sorted_density[-2,-1,0]"
   ]
  },
  {
   "cell_type": "code",
   "execution_count": 58,
   "id": "28f5412a",
   "metadata": {},
   "outputs": [
    {
     "data": {
      "text/plain": [
       "array([[0.25002773-4.98729003e-25j, 0.25002773+9.57250356e-20j,\n",
       "        0.25002773-1.42258582e-19j],\n",
       "       [0.24997227+3.28771533e-26j, 0.24997227-1.17938102e-19j,\n",
       "        0.24997227+9.61774726e-20j]])"
      ]
     },
     "execution_count": 58,
     "metadata": {},
     "output_type": "execute_result"
    }
   ],
   "source": [
    "sorted_density[-2,-1,6]"
   ]
  },
  {
   "cell_type": "code",
   "execution_count": 59,
   "id": "1746f25d",
   "metadata": {},
   "outputs": [
    {
     "data": {
      "text/plain": [
       "np.float64(35.6796875)"
      ]
     },
     "execution_count": 59,
     "metadata": {},
     "output_type": "execute_result"
    }
   ],
   "source": [
    "np.mean(final_iteration)"
   ]
  },
  {
   "cell_type": "code",
   "execution_count": 60,
   "id": "d8b85d49",
   "metadata": {},
   "outputs": [
    {
     "data": {
      "text/plain": [
       "np.int32(285)"
      ]
     },
     "execution_count": 60,
     "metadata": {},
     "output_type": "execute_result"
    }
   ],
   "source": [
    "np.max(final_iteration)"
   ]
  },
  {
   "cell_type": "code",
   "execution_count": 61,
   "id": "ddef236b",
   "metadata": {},
   "outputs": [
    {
     "data": {
      "text/plain": [
       "np.int32(2)"
      ]
     },
     "execution_count": 61,
     "metadata": {},
     "output_type": "execute_result"
    }
   ],
   "source": [
    "np.min(final_iteration)"
   ]
  },
  {
   "cell_type": "markdown",
   "id": "10943524",
   "metadata": {},
   "source": [
    "### Test the degeneracy of energy"
   ]
  },
  {
   "cell_type": "code",
   "execution_count": null,
   "id": "4b146c68",
   "metadata": {},
   "outputs": [],
   "source": []
  }
 ],
 "metadata": {
  "kernelspec": {
   "display_name": ".venv",
   "language": "python",
   "name": "python3"
  },
  "language_info": {
   "codemirror_mode": {
    "name": "ipython",
    "version": 3
   },
   "file_extension": ".py",
   "mimetype": "text/x-python",
   "name": "python",
   "nbconvert_exporter": "python",
   "pygments_lexer": "ipython3",
   "version": "3.13.7"
  }
 },
 "nbformat": 4,
 "nbformat_minor": 5
}
